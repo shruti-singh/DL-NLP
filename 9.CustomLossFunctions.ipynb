{
  "nbformat": 4,
  "nbformat_minor": 0,
  "metadata": {
    "colab": {
      "name": "9.CustomLossFunctions.ipynb",
      "provenance": []
    },
    "kernelspec": {
      "name": "python3",
      "display_name": "Python 3"
    }
  },
  "cells": [
    {
      "cell_type": "code",
      "metadata": {
        "id": "2dwAe2SYODcP",
        "colab_type": "code",
        "colab": {}
      },
      "source": [
        "!pip install --upgrade grpcio\n",
        "!pip install tensorflow==2.0"
      ],
      "execution_count": 0,
      "outputs": []
    },
    {
      "cell_type": "code",
      "metadata": {
        "id": "SWc0CkHwWX8G",
        "colab_type": "code",
        "colab": {}
      },
      "source": [
        "import tensorflow as tf"
      ],
      "execution_count": 0,
      "outputs": []
    },
    {
      "cell_type": "code",
      "metadata": {
        "id": "aEElYFvfWeyE",
        "colab_type": "code",
        "colab": {
          "base_uri": "https://localhost:8080/",
          "height": 34
        },
        "outputId": "be0086cb-eb74-46af-cc8f-630d92585c01"
      },
      "source": [
        "print(tf.__version__)"
      ],
      "execution_count": 6,
      "outputs": [
        {
          "output_type": "stream",
          "text": [
            "2.0.0\n"
          ],
          "name": "stdout"
        }
      ]
    },
    {
      "cell_type": "code",
      "metadata": {
        "id": "oaNi8GiiWinf",
        "colab_type": "code",
        "colab": {}
      },
      "source": [
        "from tensorflow.keras import Model, layers\n",
        "from tensorflow.keras import backend as K\n",
        "# from tensorflow.python.ops import math_ops\n",
        "import pdb\n",
        "import numpy as np\n",
        "import unittest"
      ],
      "execution_count": 0,
      "outputs": []
    },
    {
      "cell_type": "code",
      "metadata": {
        "id": "WO-fVp1Gk8rb",
        "colab_type": "code",
        "colab": {}
      },
      "source": [
        "class LossFunction:\n",
        "    \n",
        "    @staticmethod\n",
        "    def mean_squared_error(y_true, y_pred):\n",
        "        '''\n",
        "        loss = mean(square(y_true-y_pred))\n",
        "        '''\n",
        "        return tf.reduce_mean(tf.math.squared_difference(y_true, y_pred))\n",
        "    \n",
        "    @staticmethod\n",
        "    def mean_absolute_error(y_true, y_pred):\n",
        "        '''\n",
        "        loss = abs(y_true-y_pred)\n",
        "        '''\n",
        "        return tf.reduce_mean(tf.math.abs(tf.math.subtract(y_true, y_pred)))\n",
        "    \n",
        "    @staticmethod\n",
        "    def binary_crossentropy(y_true, y_pred):\n",
        "        '''\n",
        "        \n",
        "        '''\n",
        "        # bce = \n",
        "        return\n",
        "    \n",
        "    @staticmethod\n",
        "    def categorical_crossentropy(y_true, y_pred):\n",
        "        '''\n",
        "\n",
        "        '''\n",
        "        return\n",
        "    \n",
        "    @staticmethod\n",
        "    def hinge(y_true, y_pred):\n",
        "        '''\n",
        "        labels are expected to be -1 or 1.\n",
        "        loss = max(1 - y_true * y_pred, 0)\n",
        "        '''\n",
        "        return tf.reduce_mean(tf.math.maximum(tf.subtract(1., tf.math.multiply(y_true, y_pred)), 0.))\n",
        "    \n",
        "    @staticmethod\n",
        "    def huber(y_true, y_pred):\n",
        "        '''\n",
        "\n",
        "        '''\n",
        "        return\n",
        "    \n",
        "    @staticmethod\n",
        "    def kl_divergence(y_true, y_pred):\n",
        "        '''\n",
        "        loss = y_true * log(y_true / y_pred)\n",
        "        '''\n",
        "        return tf.reduce_sum(tf.math.multiply(y_true, tf.math.log(tf.math.divide(y_true, y_pred))))"
      ],
      "execution_count": 0,
      "outputs": []
    },
    {
      "cell_type": "code",
      "metadata": {
        "id": "-vWXEJEf-IKa",
        "colab_type": "code",
        "colab": {}
      },
      "source": [
        "class TestLossFunctions(unittest.TestCase):\n",
        "\n",
        "    def test_mse(self):\n",
        "        y_true = tf.Variable([0., 0., 1., 1.])\n",
        "        y_pred = tf.Variable([1., 1., 1., 0.])\n",
        "        x = tf.keras.backend.placeholder(shape=(None,))\n",
        "        y = tf.keras.backend.placeholder(shape=(None,))\n",
        "\n",
        "        mse = tf.keras.losses.MeanSquaredError()\n",
        "        custom_mse = K.function([x,y], [LossFunction.mean_squared_error(x,y)]) \n",
        "        \n",
        "        self.assertEqual(custom_mse([y_true, y_pred]), [mse(y_true, y_pred).numpy()])\n",
        "    \n",
        "    def test_mae(self):\n",
        "        y_true = tf.Variable([0., 0., 1., 1.])\n",
        "        y_pred = tf.Variable([1., 1., 1., 0.])\n",
        "        x = tf.keras.backend.placeholder(shape=(None,))\n",
        "        y = tf.keras.backend.placeholder(shape=(None,))\n",
        "        \n",
        "        mae = tf.keras.losses.MeanAbsoluteError()\n",
        "        custom_mae = K.function([x,y], [LossFunction.mean_absolute_error(x,y)]) \n",
        "        \n",
        "        self.assertEqual(custom_mae([y_true, y_pred]), [mae(y_true, y_pred).numpy()])\n",
        "    \n",
        "    def test_hinge(self):\n",
        "        y_true = tf.Variable([-1., -1., 1., 1.])\n",
        "        y_pred = tf.Variable([1., 1., 1., -1.])\n",
        "        x = tf.keras.backend.placeholder(shape=(None,))\n",
        "        y = tf.keras.backend.placeholder(shape=(None,))\n",
        "        \n",
        "        hinge = tf.keras.losses.Hinge()\n",
        "        custom_hinge = K.function([x,y], [LossFunction.hinge(x,y)]) \n",
        "        \n",
        "        self.assertEqual(custom_hinge([y_true, y_pred]), [hinge(y_true, y_pred).numpy()])\n",
        "    \n",
        "    def test_kld(self):\n",
        "        y_true = tf.Variable([.4, .9, .2])\n",
        "        y_pred = tf.Variable([.5, .8, .12])\n",
        "        x = tf.keras.backend.placeholder(shape=(None,))\n",
        "        y = tf.keras.backend.placeholder(shape=(None,))\n",
        "        \n",
        "        kld = tf.keras.losses.KLDivergence()\n",
        "        custom_kld = K.function([x,y], [LossFunction.kl_divergence(x,y)]) \n",
        "        \n",
        "        self.assertEqual(custom_kld([y_true, y_pred]), [kld(y_true, y_pred).numpy()])"
      ],
      "execution_count": 0,
      "outputs": []
    },
    {
      "cell_type": "code",
      "metadata": {
        "id": "E40J8qQq_NWy",
        "colab_type": "code",
        "colab": {
          "base_uri": "https://localhost:8080/",
          "height": 187
        },
        "outputId": "1060a79a-560b-4cbf-a611-0f02b8fcd59c"
      },
      "source": [
        "unittest.main(argv=[''], verbosity=2, exit=False)"
      ],
      "execution_count": 131,
      "outputs": [
        {
          "output_type": "stream",
          "text": [
            "test_hinge (__main__.TestLossFunctions) ... ok\n",
            "test_kld (__main__.TestLossFunctions) ... ok\n",
            "test_mae (__main__.TestLossFunctions) ... ok\n",
            "test_mse (__main__.TestLossFunctions) ... ok\n",
            "\n",
            "----------------------------------------------------------------------\n",
            "Ran 4 tests in 0.079s\n",
            "\n",
            "OK\n"
          ],
          "name": "stderr"
        },
        {
          "output_type": "execute_result",
          "data": {
            "text/plain": [
              "<unittest.main.TestProgram at 0x7f1a189d1eb8>"
            ]
          },
          "metadata": {
            "tags": []
          },
          "execution_count": 131
        }
      ]
    }
  ]
}