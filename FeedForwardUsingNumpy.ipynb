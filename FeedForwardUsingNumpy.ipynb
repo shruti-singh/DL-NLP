{
  "nbformat": 4,
  "nbformat_minor": 0,
  "metadata": {
    "colab": {
      "name": "FeedForwardUsingNumpy.ipynb",
      "provenance": [],
      "collapsed_sections": []
    },
    "kernelspec": {
      "name": "python3",
      "display_name": "Python 3"
    }
  },
  "cells": [
    {
      "cell_type": "markdown",
      "metadata": {
        "id": "YTNpm-NKxieK",
        "colab_type": "text"
      },
      "source": [
        "## **Feed Forward Network Implementation from scratch using Numpy**\n",
        "\n"
      ]
    },
    {
      "cell_type": "markdown",
      "metadata": {
        "id": "k7J_unTy0p2F",
        "colab_type": "text"
      },
      "source": [
        "##### Vectorized numpy implementation of Feed Forward Neural Network "
      ]
    },
    {
      "cell_type": "code",
      "metadata": {
        "id": "zYhQajaxxp_W",
        "colab_type": "code",
        "colab": {}
      },
      "source": [
        "import numpy as np\n",
        "import math"
      ],
      "execution_count": 0,
      "outputs": []
    },
    {
      "cell_type": "code",
      "metadata": {
        "id": "5-So-eHeq7_o",
        "colab_type": "code",
        "colab": {}
      },
      "source": [
        "class Activations:\n",
        "  \n",
        "  # Contains map to vectorized activation functions\n",
        "  activation_dict = {\"sigmoid\": Activations.sigmoid, \"reLu\": Activations.reLu}\n",
        "\n",
        "  @staticmethod\n",
        "  def sigmoid(mx):\n",
        "    return 1 / (1 + np.exp(-mx))\n",
        "  \n",
        "  @staticmethod\n",
        "  def reLu(mx):\n",
        "    return np.maximum(mx, 0)"
      ],
      "execution_count": 0,
      "outputs": []
    },
    {
      "cell_type": "code",
      "metadata": {
        "id": "FH_-bm99s4gx",
        "colab_type": "code",
        "colab": {}
      },
      "source": [
        "class FeedForwardNetwork:\n",
        "  \n",
        "  def __init__(self, hidden_layer_dims, activation=\"sigmoid\"):\n",
        "    \n",
        "    self._hidden_layer_dims = hidden_layer_dims\n",
        "    self.set_activation(activation)\n",
        "\n",
        "    return\n",
        "  \n",
        "  def setup_network(train, learning_rate, batch_size):\n",
        "    \n",
        "    self._lr = learning_rate\n",
        "    self._batch_size = batch_size\n",
        "\n",
        "    x_train, x_test = train[0], train[1]\n",
        "\n",
        "    self.initialize_layers(input_dim)\n",
        "    \n",
        "    return\n",
        "  \n",
        "  def initialize_layers(self, input_dim):\n",
        "\n",
        "    self.weights = {}\n",
        "    self.bias = {}\n",
        "    self.hidden_layer_outputs = {}\n",
        "\n",
        "    d1 = input_dim\n",
        "    for layer, dim in enumerate(self._hidden_layer_dims):\n",
        "      self.weights[layer] = np.random.rand(d1, dim)\n",
        "      self.bias[layer] = np.random.rand(dim, 1)\n",
        "      d1 = dim\n",
        "    \n",
        "    return\n",
        "\n",
        "  def set_activation(self, activation_func):\n",
        "    if activation_func in Activations.activation_dict:\n",
        "      self.activation = Activations.activation_dict[activation_func]\n",
        "    else:\n",
        "      print(\"Activation func not yet implemented! Resorting to sigmoid.\")\n",
        "      self.activation = Activations.activation_dict[\"sigmoid\"]\n",
        "    return\n",
        "  \n",
        "  def feedforward(self):\n",
        "    # for i in self.\n",
        "    return\n",
        "  \n",
        "  def backpropogate(self):\n",
        "    return\n",
        "  \n",
        "  def train(self):\n",
        "    return\n",
        "  \n",
        "  def predict(self):\n",
        "    return\n",
        "  \n",
        "  def visualize(self):\n",
        "    return\n",
        "  \n",
        "  def save(self):\n",
        "    return\n",
        "  \n",
        "  def demo_run(self):\n",
        "    return"
      ],
      "execution_count": 0,
      "outputs": []
    },
    {
      "cell_type": "code",
      "metadata": {
        "id": "B0DqdO_2yEz6",
        "colab_type": "code",
        "colab": {}
      },
      "source": [
        ""
      ],
      "execution_count": 0,
      "outputs": []
    }
  ]
}