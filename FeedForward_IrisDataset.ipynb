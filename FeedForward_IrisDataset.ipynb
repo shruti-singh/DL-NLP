{
 "cells": [
  {
   "cell_type": "markdown",
   "metadata": {
    "colab_type": "text",
    "id": "view-in-github"
   },
   "source": [
    "<a href=\"https://colab.research.google.com/github/shruti-singh/DL-NLP/blob/master/FeedForward_IrisDataset.ipynb\" target=\"_parent\"><img src=\"https://colab.research.google.com/assets/colab-badge.svg\" alt=\"Open In Colab\"/></a>"
   ]
  },
  {
   "cell_type": "code",
   "execution_count": null,
   "metadata": {
    "colab": {
     "base_uri": "https://localhost:8080/",
     "height": 374
    },
    "colab_type": "code",
    "id": "9YFnwot3n0x1",
    "outputId": "5fe46d87-1628-4887-8945-c82757279e3e"
   },
   "outputs": [],
   "source": [
    "!pip install matplotlib==3.1.0"
   ]
  },
  {
   "cell_type": "code",
   "execution_count": 2,
   "metadata": {
    "colab": {
     "base_uri": "https://localhost:8080/",
     "height": 63
    },
    "colab_type": "code",
    "id": "KLicFKQnn-jC",
    "outputId": "f2b7b3ea-e17b-44f8-e571-f98f34f4c9b1"
   },
   "outputs": [],
   "source": [
    "import tensorflow as tf\n",
    "import pandas as pd\n",
    "import numpy as np\n",
    "from sklearn.metrics import confusion_matrix\n",
    "import matplotlib.pyplot as plt\n",
    "%matplotlib inline\n",
    "import seaborn as sn"
   ]
  },
  {
   "cell_type": "code",
   "execution_count": 3,
   "metadata": {
    "colab": {},
    "colab_type": "code",
    "id": "1qklUUOhC98Q"
   },
   "outputs": [],
   "source": [
    "def iris_data_preprocessing():\n",
    "  # Preprocess the IRIS dataset\n",
    "  IRIS_Train = \"http://download.tensorflow.org/data/iris_training.csv\"\n",
    "  IRIS_Test = \"http://download.tensorflow.org/data/iris_test.csv\"\n",
    "\n",
    "  data_labels = ['sepal-length', 'sepal-width', 'petal-length', 'petal-width', 'species']\n",
    "  train_dataset = pd.read_csv(IRIS_Train, names=data_labels, skiprows=1)\n",
    "  test_dataset = pd.read_csv(IRIS_Test, names=data_labels, skiprows=1)\n",
    "\n",
    "  # Separate the X, y labels\n",
    "  y_train = pd.get_dummies(train_dataset.species)\n",
    "  X_train = train_dataset.drop('species', axis=1)\n",
    "\n",
    "  y_test = pd.get_dummies(test_dataset.species)\n",
    "  X_test = test_dataset.drop('species', axis=1)\n",
    "\n",
    "  print(\"Size of train set: \", X_train.shape)\n",
    "  print(\"Size of test set: \", X_test.shape)\n",
    "\n",
    "  return (X_train, y_train), (X_test, y_test)"
   ]
  },
  {
   "cell_type": "code",
   "execution_count": 4,
   "metadata": {
    "colab": {
     "base_uri": "https://localhost:8080/",
     "height": 51
    },
    "colab_type": "code",
    "id": "0fopBd5PNBCT",
    "outputId": "12ae1d17-8866-4e32-b9ff-7824947addf3"
   },
   "outputs": [
    {
     "name": "stdout",
     "output_type": "stream",
     "text": [
      "Size of train set:  (120, 4)\n",
      "Size of test set:  (30, 4)\n"
     ]
    }
   ],
   "source": [
    "train, test = iris_data_preprocessing()"
   ]
  },
  {
   "cell_type": "code",
   "execution_count": 5,
   "metadata": {},
   "outputs": [],
   "source": [
    "from datetime import datetime\n",
    "\n",
    "now = datetime.utcnow().strftime(\"%Y%m%d%H%M%S\")\n",
    "root_logdir = \"tf_logs\"\n",
    "logdir = \"{}/run-{}/\".format(root_logdir, now)\n",
    "\n",
    "tf.reset_default_graph()\n"
   ]
  },
  {
   "cell_type": "code",
   "execution_count": 6,
   "metadata": {},
   "outputs": [
    {
     "ename": "ImportError",
     "evalue": "No module named 'tensorboard.plugins.hparams'",
     "output_type": "error",
     "traceback": [
      "\u001b[0;31m---------------------------------------------------------------------------\u001b[0m",
      "\u001b[0;31mImportError\u001b[0m                               Traceback (most recent call last)",
      "\u001b[0;32m<ipython-input-6-beb15ef02298>\u001b[0m in \u001b[0;36m<module>\u001b[0;34m\u001b[0m\n\u001b[0;32m----> 1\u001b[0;31m \u001b[0;32mfrom\u001b[0m \u001b[0mtensorboard\u001b[0m\u001b[0;34m.\u001b[0m\u001b[0mplugins\u001b[0m\u001b[0;34m.\u001b[0m\u001b[0mhparams\u001b[0m \u001b[0;32mimport\u001b[0m \u001b[0mapi\u001b[0m \u001b[0;32mas\u001b[0m \u001b[0mhp\u001b[0m\u001b[0;34m\u001b[0m\u001b[0m\n\u001b[0m\u001b[1;32m      2\u001b[0m \u001b[0;34m\u001b[0m\u001b[0m\n\u001b[1;32m      3\u001b[0m \u001b[0;31m# Load the TensorBoard notebook extension\u001b[0m\u001b[0;34m\u001b[0m\u001b[0;34m\u001b[0m\u001b[0m\n\u001b[1;32m      4\u001b[0m \u001b[0mget_ipython\u001b[0m\u001b[0;34m(\u001b[0m\u001b[0;34m)\u001b[0m\u001b[0;34m.\u001b[0m\u001b[0mrun_line_magic\u001b[0m\u001b[0;34m(\u001b[0m\u001b[0;34m'load_ext'\u001b[0m\u001b[0;34m,\u001b[0m \u001b[0;34m'tensorboard'\u001b[0m\u001b[0;34m)\u001b[0m\u001b[0;34m\u001b[0m\u001b[0m\n\u001b[1;32m      5\u001b[0m \u001b[0;34m\u001b[0m\u001b[0m\n",
      "\u001b[0;31mImportError\u001b[0m: No module named 'tensorboard.plugins.hparams'"
     ]
    }
   ],
   "source": [
    "from tensorboard.plugins.hparams import api as hp\n",
    "\n",
    "# Load the TensorBoard notebook extension\n",
    "%load_ext tensorboard\n",
    "\n",
    "# Clear logs from previous runs \n",
    "!rm -rf ./tf_logs/\n",
    "\n",
    "from tensorboard.plugins.hparams import api as hp"
   ]
  },
  {
   "cell_type": "code",
   "execution_count": null,
   "metadata": {},
   "outputs": [],
   "source": [
    "class FeedForwardKerasModel:\n",
    "    \n",
    "    def __init__(self):\n",
    "#         self.learning_rate\n",
    "        return"
   ]
  },
  {
   "cell_type": "code",
   "execution_count": 53,
   "metadata": {
    "colab": {},
    "colab_type": "code",
    "id": "_hJ4RIB2G-NL"
   },
   "outputs": [],
   "source": [
    "class FeedForwardModel:\n",
    "\n",
    "  def __init__(self, learning_rate=0.005, num_iters=2000, batch_size=120):\n",
    "    self.learning_rate = learning_rate\n",
    "    self.num_iters = num_iters\n",
    "    self.batch_size = batch_size\n",
    "\n",
    "    self.model = None\n",
    "\n",
    "    self.initialize_layers()\n",
    "    self.file_writer = None\n",
    "    return\n",
    "  \n",
    "  def initialize_layers(self):\n",
    "    # TODO: Generalize this.\n",
    "\n",
    "    features = 4\n",
    "    neurons_h1 = 30   # Neurons in 1st hidden layer\n",
    "    neurons_h2 = 10   # Neurons in 2nd hidden layer\n",
    "    out_classes = 3\n",
    "\n",
    "    self.weights = {\n",
    "        \"h1\": tf.Variable(tf.random_normal([features, neurons_h1])),\n",
    "        \"h2\": tf.Variable(tf.random_normal([neurons_h1, neurons_h2])),\n",
    "        \"out\": tf.Variable(tf.random_normal([neurons_h2, out_classes]))\n",
    "    }\n",
    "\n",
    "    self.biases = {\n",
    "        \"b1\": tf.Variable(tf.random_normal([neurons_h1])),\n",
    "        \"b2\": tf.Variable(tf.random_normal([neurons_h2])),\n",
    "        \"out\": tf.Variable(tf.random_normal([out_classes])),\n",
    "    }\n",
    "    \n",
    "    self.X = tf.placeholder(\"float\", [None, features])\n",
    "    self.Y = tf.placeholder(\"float\", [None, out_classes])\n",
    "    return\n",
    "  \n",
    "  def create_model(self, x):\n",
    "    # Todo: Generalize model skeleton construction\n",
    "    hidden_layer_1 = tf.add(tf.matmul(x, self.weights[\"h1\"]), self.biases[\"b1\"])\n",
    "    hidden_layer_2 = tf.add(tf.matmul(hidden_layer_1, self.weights[\"h2\"]), self.biases[\"b2\"])\n",
    "    output_layer = tf.matmul(hidden_layer_2, self.weights[\"out\"]) + self.biases[\"out\"]\n",
    "    self.model = output_layer\n",
    "    return\n",
    "  \n",
    "  def plot_confusion_matrix(self, y_, y_predicted):\n",
    "    cm = confusion_matrix(y_, y_predicted)\n",
    "    plt.figure(figsize = (10,7))\n",
    "    sn.heatmap(cm, annot=True, cmap=\"YlGnBu\")\n",
    "    plt.title(\"Confusion Matrix\")\n",
    "    plt.xlabel(\"Predicted Label\")\n",
    "    plt.ylabel(\"True Label\")\n",
    "    return\n",
    "\n",
    "  def train_and_test(self, train_data, test_data):\n",
    "\n",
    "    X_train = train_data[0]\n",
    "    y_train = train_data[1]\n",
    "\n",
    "    X_test = test_data[0]\n",
    "    y_test = test_data[1]\n",
    "    \n",
    "\n",
    "    # Loss function. Todo: Generalize this.\n",
    "    # More about softmax_cross_entropy_with_logits and its gradient calculation: https://stackoverflow.com/a/39499486\n",
    "    loss_opn = tf.reduce_mean(tf.nn.softmax_cross_entropy_with_logits(logits=self.model, labels=self.Y))\n",
    "    \n",
    "    # To minimize the loss\n",
    "    self.optimizer = tf.train.GradientDescentOptimizer(learning_rate=self.learning_rate)\n",
    "    train_proc = self.optimizer.minimize(loss_opn)\n",
    "    \n",
    "    # Eval\n",
    "    predict = tf.nn.softmax(self.model)\n",
    "    c_p = tf.equal(tf.argmax(predict, 1), tf.argmax(self.Y, 1))\n",
    "    accuracy = tf.reduce_mean(tf.cast(c_p, tf.float32))\n",
    "    \n",
    "    init = tf.global_variables_initializer()\n",
    "    sess = tf.Session()\n",
    "    sess.run(init)\n",
    "    \n",
    "    loss_summary = tf.summary.scalar(\"Loss\", loss_opn)\n",
    "    fw = tf.summary.FileWriter(logdir, tf.get_default_graph())\n",
    "\n",
    "    for i in range(self.num_iters):\n",
    "      sess.run(train_proc, feed_dict={self.X: X_train, self.Y: y_train})\n",
    "      summary_str = loss_summary.eval(session=sess, feed_dict={self.X: X_train, self.Y: y_train})\n",
    "      fw.add_summary(summary_str, i)\n",
    "      if i % 500 == 0:\n",
    "        loss, acc = sess.run([loss_opn, accuracy], feed_dict={self.X: X_train, self.Y: y_train})\n",
    "        print(\"Iter \" + str(i) + \" Loss: \" + str(loss) + \" and Train accuracy: \" + str(acc))\n",
    "    \n",
    "    \n",
    "    \n",
    "        \n",
    "    print(\"On Test Set:\")\n",
    "    print(\"Accuracy: \", sess.run(accuracy, feed_dict={self.X: X_test, self.Y: y_test}))\n",
    "\n",
    "    # prediction = tf.nn.softmax(self.model)\n",
    "    predicted_labels = sess.run(predict, feed_dict={self.X: X_test})\n",
    "    y_ = tf.argmax(y_test, 1).eval(session=sess)\n",
    "    predicted_ = tf.argmax(predicted_labels, 1).eval(session=sess)\n",
    "\n",
    "    self.plot_confusion_matrix(y_, predicted_)\n",
    "    \n",
    "    self.file_writer = tf.summary.FileWriter(logdir, tf.get_default_graph())\n",
    "    self.file_writer.close()\n",
    "    \n",
    "    return\n",
    "\n",
    "  def run(self, train, test):\n",
    "    self.create_model(self.X)\n",
    "    self.train_and_test(train, test)\n",
    "    return\n",
    "  \n"
   ]
  },
  {
   "cell_type": "code",
   "execution_count": 52,
   "metadata": {
    "colab": {
     "base_uri": "https://localhost:8080/",
     "height": 611
    },
    "colab_type": "code",
    "id": "HsJneKqrl8nM",
    "outputId": "937aa783-63eb-4ba9-af52-72edfcb6a134"
   },
   "outputs": [
    {
     "name": "stdout",
     "output_type": "stream",
     "text": [
      "Iter 0 Loss: 68.94261 and Train accuracy: 0.35\n",
      "Iter 500 Loss: 0.08899568 and Train accuracy: 0.975\n",
      "Iter 1000 Loss: 0.06411645 and Train accuracy: 0.9916667\n",
      "Iter 1500 Loss: 0.05395537 and Train accuracy: 0.9916667\n",
      "Iter 2000 Loss: 0.056291938 and Train accuracy: 0.975\n",
      "Iter 2500 Loss: 0.056548364 and Train accuracy: 0.975\n",
      "On Test Set:\n",
      "Accuracy:  0.96666664\n"
     ]
    },
    {
     "data": {
      "image/png": "[encoded data removed]",
      "text/plain": [
       "<Figure size 720x504 with 2 Axes>"
      ]
     },
     "metadata": {
      "needs_background": "light"
     },
     "output_type": "display_data"
    }
   ],
   "source": [
    "nn = FeedForwardModel()\n",
    "nn.run(train, test)"
   ]
  },
  {
   "cell_type": "markdown",
   "metadata": {},
   "source": [
    "![alt text](images/FeedFwdNw.png)"
   ]
  },
  {
   "cell_type": "markdown",
   "metadata": {},
   "source": [
    "![alt text](images/loss_3000.png)"
   ]
  },
  {
   "cell_type": "markdown",
   "metadata": {},
   "source": [
    "Loss on the training set converges after ~2k iterations."
   ]
  }
 ],
 "metadata": {
  "accelerator": "GPU",
  "colab": {
   "collapsed_sections": [],
   "include_colab_link": true,
   "name": "FeedForward_IrisDataset",
   "provenance": []
  },
  "kernelspec": {
   "display_name": ".venv",
   "language": "python",
   "name": ".venv"
  },
  "language_info": {
   "codemirror_mode": {
    "name": "ipython",
    "version": 3
   },
   "file_extension": ".py",
   "mimetype": "text/x-python",
   "name": "python",
   "nbconvert_exporter": "python",
   "pygments_lexer": "ipython3",
   "version": "3.5.2"
  }
 },
 "nbformat": 4,
 "nbformat_minor": 1
}
