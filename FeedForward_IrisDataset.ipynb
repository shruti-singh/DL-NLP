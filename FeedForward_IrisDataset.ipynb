{
  "nbformat": 4,
  "nbformat_minor": 0,
  "metadata": {
    "colab": {
      "name": "FeedForward_IrisDataset",
      "provenance": [],
      "collapsed_sections": [],
      "include_colab_link": true
    },
    "kernelspec": {
      "name": "python3",
      "display_name": "Python 3"
    },
    "accelerator": "GPU"
  },
  "cells": [
    {
      "cell_type": "markdown",
      "metadata": {
        "id": "view-in-github",
        "colab_type": "text"
      },
      "source": [
        "<a href=\"https://colab.research.google.com/github/shruti-singh/DL-NLP/blob/master/FeedForward_IrisDataset.ipynb\" target=\"_parent\"><img src=\"https://colab.research.google.com/assets/colab-badge.svg\" alt=\"Open In Colab\"/></a>"
      ]
    },
    {
      "cell_type": "code",
      "metadata": {
        "id": "9YFnwot3n0x1",
        "colab_type": "code",
        "colab": {
          "base_uri": "https://localhost:8080/",
          "height": 374
        },
        "outputId": "5fe46d87-1628-4887-8945-c82757279e3e"
      },
      "source": [
        "!pip install matplotlib==3.1.0"
      ],
      "execution_count": 69,
      "outputs": [
        {
          "output_type": "stream",
          "text": [
            "Collecting matplotlib==3.1.0\n",
            "\u001b[?25l  Downloading https://files.pythonhosted.org/packages/da/83/d989ee20c78117c737ab40e0318ea221f1aed4e3f5a40b4f93541b369b93/matplotlib-3.1.0-cp36-cp36m-manylinux1_x86_64.whl (13.1MB)\n",
            "\u001b[K     |████████████████████████████████| 13.1MB 4.7MB/s \n",
            "\u001b[?25hRequirement already satisfied: python-dateutil>=2.1 in /usr/local/lib/python3.6/dist-packages (from matplotlib==3.1.0) (2.6.1)\n",
            "Requirement already satisfied: kiwisolver>=1.0.1 in /usr/local/lib/python3.6/dist-packages (from matplotlib==3.1.0) (1.1.0)\n",
            "Requirement already satisfied: numpy>=1.11 in /usr/local/lib/python3.6/dist-packages (from matplotlib==3.1.0) (1.17.4)\n",
            "Requirement already satisfied: pyparsing!=2.0.4,!=2.1.2,!=2.1.6,>=2.0.1 in /usr/local/lib/python3.6/dist-packages (from matplotlib==3.1.0) (2.4.5)\n",
            "Requirement already satisfied: cycler>=0.10 in /usr/local/lib/python3.6/dist-packages (from matplotlib==3.1.0) (0.10.0)\n",
            "Requirement already satisfied: six>=1.5 in /usr/local/lib/python3.6/dist-packages (from python-dateutil>=2.1->matplotlib==3.1.0) (1.12.0)\n",
            "Requirement already satisfied: setuptools in /usr/local/lib/python3.6/dist-packages (from kiwisolver>=1.0.1->matplotlib==3.1.0) (41.6.0)\n",
            "\u001b[31mERROR: albumentations 0.1.12 has requirement imgaug<0.2.7,>=0.2.5, but you'll have imgaug 0.2.9 which is incompatible.\u001b[0m\n",
            "Installing collected packages: matplotlib\n",
            "  Found existing installation: matplotlib 3.1.1\n",
            "    Uninstalling matplotlib-3.1.1:\n",
            "      Successfully uninstalled matplotlib-3.1.1\n",
            "Successfully installed matplotlib-3.1.0\n"
          ],
          "name": "stdout"
        },
        {
          "output_type": "display_data",
          "data": {
            "application/vnd.colab-display-data+json": {
              "pip_warning": {
                "packages": [
                  "matplotlib",
                  "mpl_toolkits"
                ]
              }
            }
          },
          "metadata": {
            "tags": []
          }
        }
      ]
    },
    {
      "cell_type": "code",
      "metadata": {
        "id": "KLicFKQnn-jC",
        "colab_type": "code",
        "colab": {
          "base_uri": "https://localhost:8080/",
          "height": 63
        },
        "outputId": "f2b7b3ea-e17b-44f8-e571-f98f34f4c9b1"
      },
      "source": [
        "import tensorflow as tf\n",
        "import pandas as pd\n",
        "import numpy as np\n",
        "from sklearn.metrics import confusion_matrix\n",
        "import matplotlib.pyplot as plt\n",
        "%matplotlib inline\n",
        "import seaborn as sn"
      ],
      "execution_count": 1,
      "outputs": [
        {
          "output_type": "display_data",
          "data": {
            "text/html": [
              "<p style=\"color: red;\">\n",
              "The default version of TensorFlow in Colab will soon switch to TensorFlow 2.x.<br>\n",
              "We recommend you <a href=\"https://www.tensorflow.org/guide/migrate\" target=\"_blank\">upgrade</a> now \n",
              "or ensure your notebook will continue to use TensorFlow 1.x via the <code>%tensorflow_version 1.x</code> magic:\n",
              "<a href=\"https://colab.research.google.com/notebooks/tensorflow_version.ipynb\" target=\"_blank\">more info</a>.</p>\n"
            ],
            "text/plain": [
              "<IPython.core.display.HTML object>"
            ]
          },
          "metadata": {
            "tags": []
          }
        }
      ]
    },
    {
      "cell_type": "code",
      "metadata": {
        "id": "1qklUUOhC98Q",
        "colab_type": "code",
        "colab": {}
      },
      "source": [
        "def iris_data_preprocessing():\n",
        "  # Preprocess the IRIS dataset\n",
        "  IRIS_Train = \"http://download.tensorflow.org/data/iris_training.csv\"\n",
        "  IRIS_Test = \"http://download.tensorflow.org/data/iris_test.csv\"\n",
        "\n",
        "  data_labels = ['sepal-length', 'sepal-width', 'petal-length', 'petal-width', 'species']\n",
        "  train_dataset = pd.read_csv(IRIS_Train, names=data_labels, skiprows=1)\n",
        "  test_dataset = pd.read_csv(IRIS_Test, names=data_labels, skiprows=1)\n",
        "\n",
        "  # Separate the X, y labels\n",
        "  y_train = pd.get_dummies(train_dataset.species)\n",
        "  X_train = train_dataset.drop('species', axis=1)\n",
        "\n",
        "  y_test = pd.get_dummies(test_dataset.species)\n",
        "  X_test = test_dataset.drop('species', axis=1)\n",
        "\n",
        "  print(\"Size of train set: \", X_train.shape)\n",
        "  print(\"Size of test set: \", X_test.shape)\n",
        "\n",
        "  return (X_train, y_train), (X_test, y_test)"
      ],
      "execution_count": 0,
      "outputs": []
    },
    {
      "cell_type": "code",
      "metadata": {
        "id": "0fopBd5PNBCT",
        "colab_type": "code",
        "outputId": "12ae1d17-8866-4e32-b9ff-7824947addf3",
        "colab": {
          "base_uri": "https://localhost:8080/",
          "height": 51
        }
      },
      "source": [
        "train, test = iris_data_preprocessing()"
      ],
      "execution_count": 3,
      "outputs": [
        {
          "output_type": "stream",
          "text": [
            "Size of train set:  (120, 4)\n",
            "Size of test set:  (30, 4)\n"
          ],
          "name": "stdout"
        }
      ]
    },
    {
      "cell_type": "code",
      "metadata": {
        "id": "_hJ4RIB2G-NL",
        "colab_type": "code",
        "colab": {}
      },
      "source": [
        "class FeedForwardModel:\n",
        "\n",
        "  def __init__(self, learning_rate=0.005, num_iters=2000, batch_size=120):\n",
        "    self.learning_rate = learning_rate\n",
        "    self.num_iters = num_iters\n",
        "    self.batch_size = batch_size\n",
        "\n",
        "    self.model = None\n",
        "\n",
        "    self.initialize_layers()\n",
        "    return\n",
        "  \n",
        "  def initialize_layers(self):\n",
        "    # TODO: Generalize this.\n",
        "\n",
        "    features = 4\n",
        "    neurons_h1 = 30   # Neurons in 1st hidden layer\n",
        "    neurons_h2 = 10   # Neurons in 2nd hidden layer\n",
        "    out_classes = 3\n",
        "\n",
        "    self.weights = {\n",
        "        \"h1\": tf.Variable(tf.random_normal([features, neurons_h1])),\n",
        "        \"h2\": tf.Variable(tf.random_normal([neurons_h1, neurons_h2])),\n",
        "        \"out\": tf.Variable(tf.random_normal([neurons_h2, out_classes]))\n",
        "    }\n",
        "\n",
        "    self.biases = {\n",
        "        \"b1\": tf.Variable(tf.random_normal([neurons_h1])),\n",
        "        \"b2\": tf.Variable(tf.random_normal([neurons_h2])),\n",
        "        \"out\": tf.Variable(tf.random_normal([out_classes])),\n",
        "    }\n",
        "    \n",
        "    self.X = tf.placeholder(\"float\", [None, features])\n",
        "    self.Y = tf.placeholder(\"float\", [None, out_classes])\n",
        "    return\n",
        "  \n",
        "  def create_model(self, x):\n",
        "    # Todo: Generalize model skeleton construction\n",
        "    hidden_layer_1 = tf.add(tf.matmul(x, self.weights[\"h1\"]), self.biases[\"b1\"])\n",
        "    hidden_layer_2 = tf.add(tf.matmul(hidden_layer_1, self.weights[\"h2\"]), self.biases[\"b2\"])\n",
        "    output_layer = tf.matmul(hidden_layer_2, self.weights[\"out\"]) + self.biases[\"out\"]\n",
        "    self.model = output_layer\n",
        "    return\n",
        "  \n",
        "  def plot_confusion_matrix(self, y_, y_predicted):\n",
        "    cm = confusion_matrix(y_, y_predicted)\n",
        "    plt.figure(figsize = (10,7))\n",
        "    sn.heatmap(cm, annot=True, cmap=\"YlGnBu\")\n",
        "    plt.title(\"Confusion Matrix\")\n",
        "    plt.xlabel(\"Predicted Label\")\n",
        "    plt.ylabel(\"True Label\")\n",
        "    # for i, j in itertools.product(range(cm.shape[0]), range(cm.shape[1])):\n",
        "    #   ax.text(j, i, format(cm[i, j], 'd') if cm[i,j]!=0 else '.', horizontalalignment=\"center\", fontsize=6, verticalalignment='center', color= \"black\")\n",
        "    #   fig.set_tight_layout(True)\n",
        "    #   summary = tfplot.figure.to_summary(fig, tag=\"Figures/\")\n",
        "    return\n",
        "    \n",
        "  def train_and_test(self, train_data, test_data):\n",
        "\n",
        "    X_train = train_data[0]\n",
        "    y_train = train_data[1]\n",
        "\n",
        "    X_test = test_data[0]\n",
        "    y_test = test_data[1]\n",
        "    \n",
        "\n",
        "    # Loss function. Todo: Generalize this.\n",
        "    loss_opn = tf.reduce_mean(tf.nn.softmax_cross_entropy_with_logits(logits=self.model, labels=self.Y))\n",
        "    \n",
        "    # To minimize the loss\n",
        "    self.optimizer = tf.train.GradientDescentOptimizer(learning_rate=self.learning_rate)\n",
        "    train_proc = self.optimizer.minimize(loss_opn)\n",
        "    \n",
        "    # Eval\n",
        "    predict = tf.nn.softmax(self.model)\n",
        "    c_p = tf.equal(tf.argmax(predict, 1), tf.argmax(self.Y, 1))\n",
        "    accuracy = tf.reduce_mean(tf.cast(c_p, tf.float32))\n",
        "    \n",
        "    init = tf.global_variables_initializer()\n",
        "    sess = tf.Session()\n",
        "    sess.run(init)\n",
        "\n",
        "    for i in range(self.num_iters):\n",
        "      sess.run(train_proc, feed_dict={self.X: X_train, self.Y: y_train})\n",
        "      if i % 500 == 0:\n",
        "        loss, acc = sess.run([loss_opn, accuracy], feed_dict={self.X: X_train, self.Y: y_train})\n",
        "        print(\"Iter \" + str(i) + \" Loss: \" + str(loss) + \" and Train accuracy: \" + str(acc))\n",
        "    \n",
        "    print(\"On Test Set:\")\n",
        "    print(\"Accuracy: \", sess.run(accuracy, feed_dict={self.X: X_test, self.Y: y_test}))\n",
        "    # self.plot_confusion_matrix(X_test, y_test)\n",
        "\n",
        "    # prediction = tf.nn.softmax(self.model)\n",
        "    predicted_labels = sess.run(predict, feed_dict={self.X: X_test})\n",
        "    y_ = tf.argmax(y_test, 1).eval(session=sess)\n",
        "    predicted_ = tf.argmax(predicted_labels, 1).eval(session=sess)\n",
        "\n",
        "    self.plot_confusion_matrix(y_, predicted_)\n",
        "    \n",
        "    return\n",
        "\n",
        "  def run(self, train, test):\n",
        "    self.create_model(self.X)\n",
        "    self.train_and_test(train, test)\n",
        "    return\n",
        "  \n"
      ],
      "execution_count": 0,
      "outputs": []
    },
    {
      "cell_type": "code",
      "metadata": {
        "id": "HsJneKqrl8nM",
        "colab_type": "code",
        "outputId": "937aa783-63eb-4ba9-af52-72edfcb6a134",
        "colab": {
          "base_uri": "https://localhost:8080/",
          "height": 611
        }
      },
      "source": [
        "nn = FeedForwardModel()\n",
        "nn.run(train, test)"
      ],
      "execution_count": 9,
      "outputs": [
        {
          "output_type": "stream",
          "text": [
            "Iter 0 Loss: 25.08494 and Train accuracy: 0.5083333\n",
            "Iter 500 Loss: 0.075165845 and Train accuracy: 0.9916667\n",
            "Iter 1000 Loss: 0.0473414 and Train accuracy: 0.9916667\n",
            "Iter 1500 Loss: 0.03830153 and Train accuracy: 0.9916667\n",
            "On Test Set:\n",
            "Accuracy:  0.93333334\n",
            "[[ 8  0  0]\n",
            " [ 0 13  1]\n",
            " [ 0  1  7]]\n"
          ],
          "name": "stdout"
        },
        {
          "output_type": "display_data",
          "data": {
            "image/png": "[encoded data removed]",
            "text/plain": [
              "<Figure size 720x504 with 2 Axes>"
            ]
          },
          "metadata": {
            "tags": []
          }
        }
      ]
    }
  ]
}