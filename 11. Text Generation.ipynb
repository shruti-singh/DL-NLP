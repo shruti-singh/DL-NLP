{
 "cells": [
  {
   "cell_type": "code",
   "execution_count": 3,
   "metadata": {},
   "outputs": [],
   "source": [
    "from __future__ import absolute_import, division, print_function, unicode_literals\n",
    "\n",
    "import tensorflow as tf\n",
    "\n",
    "import numpy as np\n",
    "import os\n",
    "import time"
   ]
  },
  {
   "cell_type": "code",
   "execution_count": 31,
   "metadata": {},
   "outputs": [],
   "source": [
    "def create_vocab(text):\n",
    "    # The unique characters in the file\n",
    "    vocab = sorted(set(text))\n",
    "    print ('{} unique characters'.format(len(vocab)))\n",
    "\n",
    "    # Print chars in vocab\n",
    "    print(\"Vocab: \", vocab)\n",
    "    \n",
    "    # VECTORIZE TEXT\n",
    "    # Mapping from unique characters to indices\n",
    "    char2idx = {u:i for i, u in enumerate(vocab)}\n",
    "    idx2char = np.array(vocab)\n",
    "\n",
    "    print(\"Character to index map: \", char2idx)\n",
    "    print(\"Reverse map: \", idx2char)\n",
    "    \n",
    "    return vocab, char2idx, idx2char\n",
    "    \n",
    "\n",
    "def process_shakeaspeare_dataset():\n",
    "    # By default saves file to ~/.keras/datasets/fname. ~/.keras is the cache_dir and if file is already present there, then it is not downloaded again.\n",
    "    path_to_file = tf.keras.utils.get_file('shakespeare.txt', 'https://storage.googleapis.com/download.tensorflow.org/data/shakespeare.txt')\n",
    "    \n",
    "    # Read, then decode for py2 compat.\n",
    "    text = open(path_to_file, 'rb').read().decode(encoding='utf-8')\n",
    "    # length of text is the number of characters in it\n",
    "    print ('Length of text: {} characters'.format(len(text)))\n",
    "\n",
    "    # Peek at data\n",
    "    print(\"Sample text: \\n{} \\n\".format(text[:100]))\n",
    "    \n",
    "    return create_vocab(text)"
   ]
  },
  {
   "cell_type": "code",
   "execution_count": 32,
   "metadata": {},
   "outputs": [
    {
     "name": "stdout",
     "output_type": "stream",
     "text": [
      "Length of text: 1115394 characters\n",
      "Sample text: \n",
      "First Citizen:\n",
      "Before we proceed any further, hear me speak.\n",
      "\n",
      "All:\n",
      "Speak, speak.\n",
      "\n",
      "First Citizen:\n",
      "You \n",
      "\n",
      "65 unique characters\n",
      "Vocab:  ['\\n', ' ', '!', '$', '&', \"'\", ',', '-', '.', '3', ':', ';', '?', 'A', 'B', 'C', 'D', 'E', 'F', 'G', 'H', 'I', 'J', 'K', 'L', 'M', 'N', 'O', 'P', 'Q', 'R', 'S', 'T', 'U', 'V', 'W', 'X', 'Y', 'Z', 'a', 'b', 'c', 'd', 'e', 'f', 'g', 'h', 'i', 'j', 'k', 'l', 'm', 'n', 'o', 'p', 'q', 'r', 's', 't', 'u', 'v', 'w', 'x', 'y', 'z']\n",
      "Character to index map:  {'?': 12, ';': 11, 'A': 13, 'X': 36, 'u': 59, 'W': 35, 'Y': 37, 'r': 56, 'E': 17, 'U': 33, 'I': 21, \"'\": 5, 'x': 62, 'd': 42, 'G': 19, ':': 10, 'T': 32, 'P': 28, 'H': 20, ' ': 1, 'R': 30, '$': 3, 'p': 54, 'c': 41, 'g': 45, 'j': 48, 'D': 16, 'v': 60, '\\n': 0, 'b': 40, 'h': 46, 'a': 39, ',': 6, 'M': 25, 'S': 31, 'f': 44, 'y': 63, 'w': 61, 'K': 23, 'o': 53, 'J': 22, '&': 4, 'N': 26, 'm': 51, '.': 8, 'Z': 38, 'l': 50, '-': 7, 'V': 34, 's': 57, 'L': 24, 'C': 15, 'n': 52, '3': 9, 'F': 18, 'z': 64, 't': 58, 'i': 47, 'B': 14, 'O': 27, 'e': 43, 'q': 55, 'Q': 29, '!': 2, 'k': 49}\n",
      "Reverse map:  ['\\n' ' ' '!' '$' '&' \"'\" ',' '-' '.' '3' ':' ';' '?' 'A' 'B' 'C' 'D' 'E'\n",
      " 'F' 'G' 'H' 'I' 'J' 'K' 'L' 'M' 'N' 'O' 'P' 'Q' 'R' 'S' 'T' 'U' 'V' 'W'\n",
      " 'X' 'Y' 'Z' 'a' 'b' 'c' 'd' 'e' 'f' 'g' 'h' 'i' 'j' 'k' 'l' 'm' 'n' 'o'\n",
      " 'p' 'q' 'r' 's' 't' 'u' 'v' 'w' 'x' 'y' 'z']\n"
     ]
    }
   ],
   "source": [
    "vocab, char2idx, idx2char = process_shakeaspeare_dataset()"
   ]
  },
  {
   "cell_type": "markdown",
   "metadata": {},
   "source": [
    "### Prediction Task\n",
    "Given a sequence of characters, what is the most probable next character? "
   ]
  },
  {
   "cell_type": "code",
   "execution_count": 33,
   "metadata": {},
   "outputs": [],
   "source": []
  }
 ],
 "metadata": {
  "kernelspec": {
   "display_name": ".venv",
   "language": "python",
   "name": ".venv"
  },
  "language_info": {
   "codemirror_mode": {
    "name": "ipython",
    "version": 3
   },
   "file_extension": ".py",
   "mimetype": "text/x-python",
   "name": "python",
   "nbconvert_exporter": "python",
   "pygments_lexer": "ipython3",
   "version": "3.5.2"
  }
 },
 "nbformat": 4,
 "nbformat_minor": 2
}
